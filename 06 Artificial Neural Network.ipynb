{
 "cells": [
  {
   "cell_type": "markdown",
   "metadata": {
    "id": "ghegyzIMynRT"
   },
   "source": [
    "# Artificial Neural Network"
   ]
  },
  {
   "cell_type": "markdown",
   "metadata": {
    "id": "VypiqP9cyrBZ"
   },
   "source": [
    "Artificial Neural Network with the following configuration reached a root-mean-squared-error of 0.166"
   ]
  },
  {
   "cell_type": "code",
   "execution_count": 1,
   "metadata": {
    "executionInfo": {
     "elapsed": 712,
     "status": "ok",
     "timestamp": 1602855410377,
     "user": {
      "displayName": "Jussi H",
      "photoUrl": "https://lh3.googleusercontent.com/a-/AOh14GhvUUHHpBpoNcz3fQE4SRKODRl1eKr7FjrvdebRSQ=s64",
      "userId": "01605438575348390897"
     },
     "user_tz": -180
    },
    "id": "HIARsvsCs_wr"
   },
   "outputs": [],
   "source": [
    "import pandas as pd\n",
    "import numpy as np"
   ]
  },
  {
   "cell_type": "code",
   "execution_count": 2,
   "metadata": {
    "executionInfo": {
     "elapsed": 702,
     "status": "ok",
     "timestamp": 1602855410378,
     "user": {
      "displayName": "Jussi H",
      "photoUrl": "https://lh3.googleusercontent.com/a-/AOh14GhvUUHHpBpoNcz3fQE4SRKODRl1eKr7FjrvdebRSQ=s64",
      "userId": "01605438575348390897"
     },
     "user_tz": -180
    },
    "id": "VmvGgjaw6kW5"
   },
   "outputs": [],
   "source": [
    "import tensorflow as tf"
   ]
  },
  {
   "cell_type": "code",
   "execution_count": 3,
   "metadata": {
    "executionInfo": {
     "elapsed": 698,
     "status": "ok",
     "timestamp": 1602855410379,
     "user": {
      "displayName": "Jussi H",
      "photoUrl": "https://lh3.googleusercontent.com/a-/AOh14GhvUUHHpBpoNcz3fQE4SRKODRl1eKr7FjrvdebRSQ=s64",
      "userId": "01605438575348390897"
     },
     "user_tz": -180
    },
    "id": "zfD1Ezn5wokN"
   },
   "outputs": [],
   "source": [
    "from sklearn.model_selection import train_test_split\n",
    "from sklearn.metrics import r2_score\n",
    "from sklearn.compose import ColumnTransformer\n",
    "from sklearn.preprocessing import OneHotEncoder\n",
    "from sklearn.preprocessing import StandardScaler\n",
    "from sklearn.metrics import mean_squared_error"
   ]
  },
  {
   "cell_type": "code",
   "execution_count": 4,
   "metadata": {
    "executionInfo": {
     "elapsed": 694,
     "status": "ok",
     "timestamp": 1602855410380,
     "user": {
      "displayName": "Jussi H",
      "photoUrl": "https://lh3.googleusercontent.com/a-/AOh14GhvUUHHpBpoNcz3fQE4SRKODRl1eKr7FjrvdebRSQ=s64",
      "userId": "01605438575348390897"
     },
     "user_tz": -180
    },
    "id": "0M9TIOGZfFCt"
   },
   "outputs": [],
   "source": [
    "from sklearn.discriminant_analysis import LinearDiscriminantAnalysis"
   ]
  },
  {
   "cell_type": "code",
   "execution_count": 5,
   "metadata": {
    "executionInfo": {
     "elapsed": 687,
     "status": "ok",
     "timestamp": 1602855410380,
     "user": {
      "displayName": "Jussi H",
      "photoUrl": "https://lh3.googleusercontent.com/a-/AOh14GhvUUHHpBpoNcz3fQE4SRKODRl1eKr7FjrvdebRSQ=s64",
      "userId": "01605438575348390897"
     },
     "user_tz": -180
    },
    "id": "e0Y71fl9p4XI"
   },
   "outputs": [],
   "source": [
    "train = pd.read_csv('dataset.csv')\n",
    "testset = pd.read_csv('testset.csv')\n",
    "test_all = pd.read_csv('test.csv')"
   ]
  },
  {
   "cell_type": "code",
   "execution_count": 6,
   "metadata": {
    "executionInfo": {
     "elapsed": 939,
     "status": "ok",
     "timestamp": 1602855410638,
     "user": {
      "displayName": "Jussi H",
      "photoUrl": "https://lh3.googleusercontent.com/a-/AOh14GhvUUHHpBpoNcz3fQE4SRKODRl1eKr7FjrvdebRSQ=s64",
      "userId": "01605438575348390897"
     },
     "user_tz": -180
    },
    "id": "mPHtn0vHv_pU"
   },
   "outputs": [],
   "source": [
    "train = train.drop(['Id'], axis=1)\n",
    "test = testset.drop(['Id'], axis=1)"
   ]
  },
  {
   "cell_type": "code",
   "execution_count": 7,
   "metadata": {
    "executionInfo": {
     "elapsed": 935,
     "status": "ok",
     "timestamp": 1602855410639,
     "user": {
      "displayName": "Jussi H",
      "photoUrl": "https://lh3.googleusercontent.com/a-/AOh14GhvUUHHpBpoNcz3fQE4SRKODRl1eKr7FjrvdebRSQ=s64",
      "userId": "01605438575348390897"
     },
     "user_tz": -180
    },
    "id": "MldO0knUwDME"
   },
   "outputs": [],
   "source": [
    "X = train.iloc[:, :-1].values\n",
    "y = train.iloc[:, -1].values\n",
    "test_data = test.iloc[:,:].values"
   ]
  },
  {
   "cell_type": "code",
   "execution_count": 8,
   "metadata": {
    "executionInfo": {
     "elapsed": 929,
     "status": "ok",
     "timestamp": 1602855410639,
     "user": {
      "displayName": "Jussi H",
      "photoUrl": "https://lh3.googleusercontent.com/a-/AOh14GhvUUHHpBpoNcz3fQE4SRKODRl1eKr7FjrvdebRSQ=s64",
      "userId": "01605438575348390897"
     },
     "user_tz": -180
    },
    "id": "UGGJYbPnwLSi"
   },
   "outputs": [],
   "source": [
    "def transform_columns(X, test_data, columns):\n",
    "    ct = ColumnTransformer(transformers=[('encoder', OneHotEncoder(), columns)], remainder='passthrough')\n",
    "    # X = np.array(ct.fit_transform(X))\n",
    "    X = ct.fit_transform(X)\n",
    "    # test_data = np.array(ct.transform(test_data))\n",
    "    test_data = ct.transform(test_data)\n",
    "\n",
    "    return X, test_data\n",
    "\n",
    "def standardize(X_train, X_test, test_data):\n",
    "    sc = StandardScaler(with_mean=False)\n",
    "    X_train = sc.fit_transform(X_train)\n",
    "    X_test = sc.transform(X_test)\n",
    "    test_data = sc.transform(test_data)\n",
    "\n",
    "    return X_train, X_test, test_data\n",
    "    \n",
    "def preds_to_file(test_all, preds, filename):\n",
    "    preds = np.concatenate(preds)\n",
    "    output = pd.DataFrame({'Id': test_all.Id, 'SalePrice': preds})\n",
    "    output.to_csv(filename, index=False)\n",
    "    print(f\"File {filename} created!\")"
   ]
  },
  {
   "cell_type": "code",
   "execution_count": 9,
   "metadata": {
    "executionInfo": {
     "elapsed": 925,
     "status": "ok",
     "timestamp": 1602855410640,
     "user": {
      "displayName": "Jussi H",
      "photoUrl": "https://lh3.googleusercontent.com/a-/AOh14GhvUUHHpBpoNcz3fQE4SRKODRl1eKr7FjrvdebRSQ=s64",
      "userId": "01605438575348390897"
     },
     "user_tz": -180
    },
    "id": "ibRptrvWFNzV"
   },
   "outputs": [],
   "source": [
    "def get_ann():\n",
    "    ann = tf.keras.models.Sequential()\n",
    "    ann.add(tf.keras.layers.Dense(units=135, activation='relu'))\n",
    "    ann.add(tf.keras.layers.Dense(units=135, activation='relu'))\n",
    "    ann.add(tf.keras.layers.Dense(units=300, activation='relu'))\n",
    "    ann.add(tf.keras.layers.Dense(units=135, activation='relu'))\n",
    "    ann.add(tf.keras.layers.Dense(units=135, activation='relu'))\n",
    "    ann.add(tf.keras.layers.Dense(units=1))\n",
    "\n",
    "    return ann"
   ]
  },
  {
   "cell_type": "code",
   "execution_count": 10,
   "metadata": {
    "executionInfo": {
     "elapsed": 919,
     "status": "ok",
     "timestamp": 1602855410640,
     "user": {
      "displayName": "Jussi H",
      "photoUrl": "https://lh3.googleusercontent.com/a-/AOh14GhvUUHHpBpoNcz3fQE4SRKODRl1eKr7FjrvdebRSQ=s64",
      "userId": "01605438575348390897"
     },
     "user_tz": -180
    },
    "id": "didMa6rVeG_f"
   },
   "outputs": [],
   "source": [
    "def perform_discriminant_analysis(n_components, X_train, X_test, test_data):\n",
    "  lda = LinearDiscriminantAnalysis(n_components=n_components)\n",
    "  X_train = lda.fit_transform(X_train, y_train)\n",
    "  X_test = lda.transform(X_test)\n",
    "  test_data = lda.transform(test_data)\n",
    "\n",
    "  return X_train, X_test, test_data"
   ]
  },
  {
   "cell_type": "code",
   "execution_count": 11,
   "metadata": {
    "executionInfo": {
     "elapsed": 915,
     "status": "ok",
     "timestamp": 1602855410641,
     "user": {
      "displayName": "Jussi H",
      "photoUrl": "https://lh3.googleusercontent.com/a-/AOh14GhvUUHHpBpoNcz3fQE4SRKODRl1eKr7FjrvdebRSQ=s64",
      "userId": "01605438575348390897"
     },
     "user_tz": -180
    },
    "id": "OOeXuO4LwOsB"
   },
   "outputs": [],
   "source": [
    " categorical_cols = [1, 4, 5, 6, 7, 8, 9, 10, 11, 12, 13, 14, 19, 20, 21, 22, 23, 24, 25, 26, 27, 28, 29, 30, 32, 36, 37, 38, 39, 50, 52, 54, 56, 59, 60, 61, 71, 72]\n",
    " X, test_data = transform_columns(X, test_data, categorical_cols)\n",
    " X = X.toarray()\n",
    " test_data = test_data.toarray()"
   ]
  },
  {
   "cell_type": "code",
   "execution_count": 12,
   "metadata": {
    "executionInfo": {
     "elapsed": 911,
     "status": "ok",
     "timestamp": 1602855410641,
     "user": {
      "displayName": "Jussi H",
      "photoUrl": "https://lh3.googleusercontent.com/a-/AOh14GhvUUHHpBpoNcz3fQE4SRKODRl1eKr7FjrvdebRSQ=s64",
      "userId": "01605438575348390897"
     },
     "user_tz": -180
    },
    "id": "y9D1Cn7Awwq_"
   },
   "outputs": [],
   "source": [
    "X_train, X_test, y_train, y_test = train_test_split(X, y, test_size=0.3, random_state=1)\n",
    "X_train, X_test, test_data = standardize(X_train, X_test, test_data)"
   ]
  },
  {
   "cell_type": "code",
   "execution_count": 13,
   "metadata": {
    "executionInfo": {
     "elapsed": 869,
     "status": "ok",
     "timestamp": 1602855410641,
     "user": {
      "displayName": "Jussi H",
      "photoUrl": "https://lh3.googleusercontent.com/a-/AOh14GhvUUHHpBpoNcz3fQE4SRKODRl1eKr7FjrvdebRSQ=s64",
      "userId": "01605438575348390897"
     },
     "user_tz": -180
    },
    "id": "_9qwD8tRehwx"
   },
   "outputs": [],
   "source": [
    "# X_train, X_test, test_data = perform_discriminant_analysis(200, X_train, X_test, test_data)"
   ]
  },
  {
   "cell_type": "code",
   "execution_count": 14,
   "metadata": {
    "colab": {
     "base_uri": "https://localhost:8080/",
     "height": 34
    },
    "executionInfo": {
     "elapsed": 862,
     "status": "ok",
     "timestamp": 1602855410642,
     "user": {
      "displayName": "Jussi H",
      "photoUrl": "https://lh3.googleusercontent.com/a-/AOh14GhvUUHHpBpoNcz3fQE4SRKODRl1eKr7FjrvdebRSQ=s64",
      "userId": "01605438575348390897"
     },
     "user_tz": -180
    },
    "id": "1P6Tu4izw7uL",
    "outputId": "428320b6-f460-49e7-8bf8-777193621161"
   },
   "outputs": [
    {
     "name": "stdout",
     "output_type": "stream",
     "text": [
      "(1022, 269)\n"
     ]
    }
   ],
   "source": [
    "print(X_train.shape)\n",
    "ann = get_ann()\n",
    "ann.compile(optimizer='adam', loss='mean_squared_error', metrics=[tf.keras.metrics.RootMeanSquaredError()])"
   ]
  },
  {
   "cell_type": "code",
   "execution_count": 15,
   "metadata": {
    "colab": {
     "base_uri": "https://localhost:8080/",
     "height": 1000
    },
    "executionInfo": {
     "elapsed": 34969,
     "status": "ok",
     "timestamp": 1602855444760,
     "user": {
      "displayName": "Jussi H",
      "photoUrl": "https://lh3.googleusercontent.com/a-/AOh14GhvUUHHpBpoNcz3fQE4SRKODRl1eKr7FjrvdebRSQ=s64",
      "userId": "01605438575348390897"
     },
     "user_tz": -180
    },
    "id": "imeng54WFfRN",
    "outputId": "0e0f74f2-086a-4907-c5f8-4a1a268be863"
   },
   "outputs": [
    {
     "name": "stdout",
     "output_type": "stream",
     "text": [
      "Epoch 1/200\n",
      "32/32 [==============================] - 0s 9ms/step - loss: 36165439488.0000 - root_mean_squared_error: 190172.1250 - val_loss: 24462716928.0000 - val_root_mean_squared_error: 156405.6094\n",
      "Epoch 2/200\n",
      "32/32 [==============================] - 0s 2ms/step - loss: 8963032064.0000 - root_mean_squared_error: 94673.2891 - val_loss: 7248540672.0000 - val_root_mean_squared_error: 85138.3594\n",
      "Epoch 3/200\n",
      "32/32 [==============================] - 0s 2ms/step - loss: 5834744832.0000 - root_mean_squared_error: 76385.5000 - val_loss: 6849616896.0000 - val_root_mean_squared_error: 82762.4141\n",
      "Epoch 4/200\n",
      "32/32 [==============================] - 0s 2ms/step - loss: 5678567424.0000 - root_mean_squared_error: 75356.2734 - val_loss: 6719058432.0000 - val_root_mean_squared_error: 81969.8594\n",
      "Epoch 5/200\n",
      "32/32 [==============================] - 0s 2ms/step - loss: 5554086912.0000 - root_mean_squared_error: 74525.7500 - val_loss: 6579677184.0000 - val_root_mean_squared_error: 81115.2109\n",
      "Epoch 6/200\n",
      "32/32 [==============================] - 0s 3ms/step - loss: 5456561664.0000 - root_mean_squared_error: 73868.5469 - val_loss: 6437995520.0000 - val_root_mean_squared_error: 80237.1172\n",
      "Epoch 7/200\n",
      "32/32 [==============================] - 0s 3ms/step - loss: 5370126848.0000 - root_mean_squared_error: 73281.1484 - val_loss: 6294125568.0000 - val_root_mean_squared_error: 79335.5234\n",
      "Epoch 8/200\n",
      "32/32 [==============================] - 0s 6ms/step - loss: 5248477184.0000 - root_mean_squared_error: 72446.3750 - val_loss: 6135225856.0000 - val_root_mean_squared_error: 78327.6797\n",
      "Epoch 9/200\n",
      "32/32 [==============================] - 0s 4ms/step - loss: 5064827904.0000 - root_mean_squared_error: 71167.6016 - val_loss: 5869987328.0000 - val_root_mean_squared_error: 76615.8438\n",
      "Epoch 10/200\n",
      "32/32 [==============================] - 0s 4ms/step - loss: 4847443968.0000 - root_mean_squared_error: 69623.5859 - val_loss: 5641610752.0000 - val_root_mean_squared_error: 75110.6562\n",
      "Epoch 11/200\n",
      "32/32 [==============================] - 0s 4ms/step - loss: 4649582592.0000 - root_mean_squared_error: 68187.8516 - val_loss: 5267808256.0000 - val_root_mean_squared_error: 72579.6719\n",
      "Epoch 12/200\n",
      "32/32 [==============================] - 0s 4ms/step - loss: 4230799872.0000 - root_mean_squared_error: 65044.5977 - val_loss: 4831540224.0000 - val_root_mean_squared_error: 69509.2812\n",
      "Epoch 13/200\n",
      "32/32 [==============================] - 0s 5ms/step - loss: 3826605312.0000 - root_mean_squared_error: 61859.5625 - val_loss: 4311889920.0000 - val_root_mean_squared_error: 65664.9844\n",
      "Epoch 14/200\n",
      "32/32 [==============================] - 0s 5ms/step - loss: 3172842752.0000 - root_mean_squared_error: 56327.9922 - val_loss: 3360576512.0000 - val_root_mean_squared_error: 57970.4805\n",
      "Epoch 15/200\n",
      "32/32 [==============================] - 0s 3ms/step - loss: 2446033664.0000 - root_mean_squared_error: 49457.3906 - val_loss: 2445670144.0000 - val_root_mean_squared_error: 49453.7188\n",
      "Epoch 16/200\n",
      "32/32 [==============================] - 0s 4ms/step - loss: 1843934592.0000 - root_mean_squared_error: 42941.0586 - val_loss: 1844308608.0000 - val_root_mean_squared_error: 42945.4141\n",
      "Epoch 17/200\n",
      "32/32 [==============================] - 0s 4ms/step - loss: 1563833216.0000 - root_mean_squared_error: 39545.3320 - val_loss: 1609718400.0000 - val_root_mean_squared_error: 40121.2969\n",
      "Epoch 18/200\n",
      "32/32 [==============================] - 0s 3ms/step - loss: 1392646272.0000 - root_mean_squared_error: 37318.1758 - val_loss: 1398236288.0000 - val_root_mean_squared_error: 37392.9961\n",
      "Epoch 19/200\n",
      "32/32 [==============================] - 0s 4ms/step - loss: 1272082688.0000 - root_mean_squared_error: 35666.2695 - val_loss: 1310590592.0000 - val_root_mean_squared_error: 36202.0781\n",
      "Epoch 20/200\n",
      "32/32 [==============================] - 0s 5ms/step - loss: 1183109632.0000 - root_mean_squared_error: 34396.3594 - val_loss: 1262753792.0000 - val_root_mean_squared_error: 35535.2461\n",
      "Epoch 21/200\n",
      "32/32 [==============================] - 0s 3ms/step - loss: 1106141696.0000 - root_mean_squared_error: 33258.7070 - val_loss: 1114374912.0000 - val_root_mean_squared_error: 33382.2539\n",
      "Epoch 22/200\n",
      "32/32 [==============================] - 0s 5ms/step - loss: 1050344960.0000 - root_mean_squared_error: 32409.0254 - val_loss: 1108133376.0000 - val_root_mean_squared_error: 33288.6367\n",
      "Epoch 23/200\n",
      "32/32 [==============================] - 0s 4ms/step - loss: 1018362880.0000 - root_mean_squared_error: 31911.7988 - val_loss: 1087660160.0000 - val_root_mean_squared_error: 32979.6914\n",
      "Epoch 24/200\n",
      "32/32 [==============================] - 0s 4ms/step - loss: 961668672.0000 - root_mean_squared_error: 31010.7832 - val_loss: 1010243520.0000 - val_root_mean_squared_error: 31784.3281\n",
      "Epoch 25/200\n",
      "32/32 [==============================] - 0s 4ms/step - loss: 1018766400.0000 - root_mean_squared_error: 31918.1211 - val_loss: 958483072.0000 - val_root_mean_squared_error: 30959.3770\n",
      "Epoch 26/200\n",
      "32/32 [==============================] - 0s 4ms/step - loss: 942700160.0000 - root_mean_squared_error: 30703.4219 - val_loss: 999355904.0000 - val_root_mean_squared_error: 31612.5918\n",
      "Epoch 27/200\n",
      "32/32 [==============================] - 0s 4ms/step - loss: 892195392.0000 - root_mean_squared_error: 29869.6406 - val_loss: 968420160.0000 - val_root_mean_squared_error: 31119.4492\n",
      "Epoch 28/200\n",
      "32/32 [==============================] - 0s 4ms/step - loss: 874520256.0000 - root_mean_squared_error: 29572.2891 - val_loss: 928027584.0000 - val_root_mean_squared_error: 30463.5449\n",
      "Epoch 29/200\n",
      "32/32 [==============================] - 0s 4ms/step - loss: 868535424.0000 - root_mean_squared_error: 29470.9258 - val_loss: 933864128.0000 - val_root_mean_squared_error: 30559.1914\n",
      "Epoch 30/200\n",
      "32/32 [==============================] - 0s 4ms/step - loss: 806836928.0000 - root_mean_squared_error: 28404.8750 - val_loss: 916899648.0000 - val_root_mean_squared_error: 30280.3516\n",
      "Epoch 31/200\n",
      "32/32 [==============================] - 0s 4ms/step - loss: 830925952.0000 - root_mean_squared_error: 28825.7871 - val_loss: 889224896.0000 - val_root_mean_squared_error: 29819.8750\n",
      "Epoch 32/200\n",
      "32/32 [==============================] - 0s 4ms/step - loss: 773648320.0000 - root_mean_squared_error: 27814.5352 - val_loss: 911430976.0000 - val_root_mean_squared_error: 30189.9160\n",
      "Epoch 33/200\n",
      "32/32 [==============================] - 0s 5ms/step - loss: 753909120.0000 - root_mean_squared_error: 27457.4062 - val_loss: 889201792.0000 - val_root_mean_squared_error: 29819.4863\n",
      "Epoch 34/200\n",
      "32/32 [==============================] - 0s 4ms/step - loss: 734064704.0000 - root_mean_squared_error: 27093.6289 - val_loss: 956122304.0000 - val_root_mean_squared_error: 30921.2266\n",
      "Epoch 35/200\n",
      "32/32 [==============================] - 0s 4ms/step - loss: 781051584.0000 - root_mean_squared_error: 27947.3008 - val_loss: 923920832.0000 - val_root_mean_squared_error: 30396.0664\n",
      "Epoch 36/200\n",
      "32/32 [==============================] - 0s 4ms/step - loss: 724941120.0000 - root_mean_squared_error: 26924.7305 - val_loss: 854351936.0000 - val_root_mean_squared_error: 29229.2988\n",
      "Epoch 37/200\n",
      "32/32 [==============================] - 0s 5ms/step - loss: 721186432.0000 - root_mean_squared_error: 26854.9141 - val_loss: 900857536.0000 - val_root_mean_squared_error: 30014.2891\n",
      "Epoch 38/200\n",
      "32/32 [==============================] - 0s 4ms/step - loss: 680055936.0000 - root_mean_squared_error: 26077.8828 - val_loss: 880863104.0000 - val_root_mean_squared_error: 29679.3379\n",
      "Epoch 39/200\n",
      "32/32 [==============================] - 0s 5ms/step - loss: 680389376.0000 - root_mean_squared_error: 26084.2754 - val_loss: 1236836352.0000 - val_root_mean_squared_error: 35168.6836\n",
      "Epoch 40/200\n",
      "32/32 [==============================] - 0s 4ms/step - loss: 691514816.0000 - root_mean_squared_error: 26296.6699 - val_loss: 978072576.0000 - val_root_mean_squared_error: 31274.1523\n",
      "Epoch 41/200\n",
      "32/32 [==============================] - 0s 3ms/step - loss: 694389056.0000 - root_mean_squared_error: 26351.2637 - val_loss: 923446400.0000 - val_root_mean_squared_error: 30388.2617\n",
      "Epoch 42/200\n",
      "32/32 [==============================] - 0s 4ms/step - loss: 612918400.0000 - root_mean_squared_error: 24757.1895 - val_loss: 870214208.0000 - val_root_mean_squared_error: 29499.3926\n",
      "Epoch 43/200\n",
      "32/32 [==============================] - 0s 4ms/step - loss: 691085504.0000 - root_mean_squared_error: 26288.5059 - val_loss: 881575552.0000 - val_root_mean_squared_error: 29691.3379\n",
      "Epoch 44/200\n",
      "32/32 [==============================] - 0s 4ms/step - loss: 612292992.0000 - root_mean_squared_error: 24744.5547 - val_loss: 966829696.0000 - val_root_mean_squared_error: 31093.8848\n",
      "Epoch 45/200\n",
      "32/32 [==============================] - 0s 4ms/step - loss: 600789440.0000 - root_mean_squared_error: 24511.0059 - val_loss: 855918144.0000 - val_root_mean_squared_error: 29256.0781\n",
      "Epoch 46/200\n",
      "32/32 [==============================] - 0s 4ms/step - loss: 571082944.0000 - root_mean_squared_error: 23897.3418 - val_loss: 849093824.0000 - val_root_mean_squared_error: 29139.2148\n",
      "Epoch 47/200\n",
      "32/32 [==============================] - 0s 4ms/step - loss: 585934208.0000 - root_mean_squared_error: 24206.0781 - val_loss: 830890688.0000 - val_root_mean_squared_error: 28825.1738\n",
      "Epoch 48/200\n",
      "32/32 [==============================] - 0s 4ms/step - loss: 611259456.0000 - root_mean_squared_error: 24723.6621 - val_loss: 1038907328.0000 - val_root_mean_squared_error: 32232.0859\n",
      "Epoch 49/200\n",
      "32/32 [==============================] - 0s 4ms/step - loss: 595700416.0000 - root_mean_squared_error: 24406.9746 - val_loss: 922827328.0000 - val_root_mean_squared_error: 30378.0723\n",
      "Epoch 50/200\n",
      "32/32 [==============================] - 0s 4ms/step - loss: 607720512.0000 - root_mean_squared_error: 24651.9883 - val_loss: 1106661120.0000 - val_root_mean_squared_error: 33266.5156\n",
      "Epoch 51/200\n",
      "32/32 [==============================] - 0s 4ms/step - loss: 554084160.0000 - root_mean_squared_error: 23538.9922 - val_loss: 829534400.0000 - val_root_mean_squared_error: 28801.6387\n",
      "Epoch 52/200\n",
      "32/32 [==============================] - 0s 4ms/step - loss: 529771360.0000 - root_mean_squared_error: 23016.7617 - val_loss: 952717632.0000 - val_root_mean_squared_error: 30866.1250\n",
      "Epoch 53/200\n",
      "32/32 [==============================] - 0s 7ms/step - loss: 594055424.0000 - root_mean_squared_error: 24373.2520 - val_loss: 840864640.0000 - val_root_mean_squared_error: 28997.6660\n",
      "Epoch 54/200\n",
      "32/32 [==============================] - 0s 4ms/step - loss: 529197280.0000 - root_mean_squared_error: 23004.2891 - val_loss: 947528896.0000 - val_root_mean_squared_error: 30781.9570\n",
      "Epoch 55/200\n",
      "32/32 [==============================] - 0s 4ms/step - loss: 506864352.0000 - root_mean_squared_error: 22513.6484 - val_loss: 881446208.0000 - val_root_mean_squared_error: 29689.1602\n",
      "Epoch 56/200\n",
      "32/32 [==============================] - 0s 4ms/step - loss: 494304416.0000 - root_mean_squared_error: 22232.9570 - val_loss: 852505600.0000 - val_root_mean_squared_error: 29197.6992\n",
      "Epoch 57/200\n",
      "32/32 [==============================] - 0s 4ms/step - loss: 507658496.0000 - root_mean_squared_error: 22531.2773 - val_loss: 898071552.0000 - val_root_mean_squared_error: 29967.8418\n",
      "Epoch 58/200\n",
      "32/32 [==============================] - 0s 2ms/step - loss: 518934528.0000 - root_mean_squared_error: 22780.1348 - val_loss: 856121856.0000 - val_root_mean_squared_error: 29259.5605\n",
      "Epoch 59/200\n",
      "32/32 [==============================] - 0s 3ms/step - loss: 464480352.0000 - root_mean_squared_error: 21551.8066 - val_loss: 878659328.0000 - val_root_mean_squared_error: 29642.1875\n",
      "Epoch 60/200\n",
      "32/32 [==============================] - 0s 3ms/step - loss: 477312096.0000 - root_mean_squared_error: 21847.4727 - val_loss: 855005696.0000 - val_root_mean_squared_error: 29240.4805\n",
      "Epoch 61/200\n",
      "32/32 [==============================] - 0s 2ms/step - loss: 439040256.0000 - root_mean_squared_error: 20953.2871 - val_loss: 895919104.0000 - val_root_mean_squared_error: 29931.9062\n",
      "Epoch 62/200\n",
      "32/32 [==============================] - 0s 3ms/step - loss: 443808000.0000 - root_mean_squared_error: 21066.7520 - val_loss: 895830208.0000 - val_root_mean_squared_error: 29930.4219\n",
      "Epoch 63/200\n",
      "32/32 [==============================] - 0s 3ms/step - loss: 460989728.0000 - root_mean_squared_error: 21470.6719 - val_loss: 849605248.0000 - val_root_mean_squared_error: 29147.9883\n",
      "Epoch 64/200\n",
      "32/32 [==============================] - 0s 2ms/step - loss: 450430624.0000 - root_mean_squared_error: 21223.3516 - val_loss: 910495488.0000 - val_root_mean_squared_error: 30174.4180\n",
      "Epoch 65/200\n",
      "32/32 [==============================] - 0s 2ms/step - loss: 478066304.0000 - root_mean_squared_error: 21864.7266 - val_loss: 870659584.0000 - val_root_mean_squared_error: 29506.9414\n",
      "Epoch 66/200\n",
      "32/32 [==============================] - 0s 3ms/step - loss: 525549664.0000 - root_mean_squared_error: 22924.8691 - val_loss: 900914688.0000 - val_root_mean_squared_error: 30015.2402\n",
      "Epoch 67/200\n",
      "32/32 [==============================] - 0s 2ms/step - loss: 455404096.0000 - root_mean_squared_error: 21340.1992 - val_loss: 858863488.0000 - val_root_mean_squared_error: 29306.3730\n",
      "Epoch 68/200\n",
      "32/32 [==============================] - 0s 3ms/step - loss: 492820480.0000 - root_mean_squared_error: 22199.5605 - val_loss: 863529920.0000 - val_root_mean_squared_error: 29385.8789\n",
      "Epoch 69/200\n",
      "32/32 [==============================] - 0s 3ms/step - loss: 410745760.0000 - root_mean_squared_error: 20266.8633 - val_loss: 880949248.0000 - val_root_mean_squared_error: 29680.7891\n",
      "Epoch 70/200\n",
      "32/32 [==============================] - 0s 2ms/step - loss: 427264704.0000 - root_mean_squared_error: 20670.3828 - val_loss: 883943936.0000 - val_root_mean_squared_error: 29731.1953\n",
      "Epoch 71/200\n",
      "32/32 [==============================] - 0s 2ms/step - loss: 404660000.0000 - root_mean_squared_error: 20116.1621 - val_loss: 851451840.0000 - val_root_mean_squared_error: 29179.6484\n",
      "Epoch 72/200\n",
      "32/32 [==============================] - 0s 3ms/step - loss: 417771616.0000 - root_mean_squared_error: 20439.4629 - val_loss: 997003904.0000 - val_root_mean_squared_error: 31575.3691\n",
      "Epoch 73/200\n",
      "32/32 [==============================] - 0s 3ms/step - loss: 395124704.0000 - root_mean_squared_error: 19877.7441 - val_loss: 864457024.0000 - val_root_mean_squared_error: 29401.6504\n",
      "Epoch 74/200\n",
      "32/32 [==============================] - 0s 2ms/step - loss: 379696256.0000 - root_mean_squared_error: 19485.7969 - val_loss: 908445568.0000 - val_root_mean_squared_error: 30140.4316\n",
      "Epoch 75/200\n",
      "32/32 [==============================] - 0s 2ms/step - loss: 385468128.0000 - root_mean_squared_error: 19633.3418 - val_loss: 866021312.0000 - val_root_mean_squared_error: 29428.2402\n",
      "Epoch 76/200\n",
      "32/32 [==============================] - 0s 2ms/step - loss: 367430336.0000 - root_mean_squared_error: 19168.4727 - val_loss: 907518720.0000 - val_root_mean_squared_error: 30125.0508\n",
      "Epoch 77/200\n",
      "32/32 [==============================] - 0s 3ms/step - loss: 423173472.0000 - root_mean_squared_error: 20571.1797 - val_loss: 885836352.0000 - val_root_mean_squared_error: 29763.0039\n",
      "Epoch 78/200\n",
      "32/32 [==============================] - 0s 3ms/step - loss: 389475648.0000 - root_mean_squared_error: 19735.1367 - val_loss: 894036800.0000 - val_root_mean_squared_error: 29900.4473\n",
      "Epoch 79/200\n",
      "32/32 [==============================] - 0s 4ms/step - loss: 369795680.0000 - root_mean_squared_error: 19230.0723 - val_loss: 871689536.0000 - val_root_mean_squared_error: 29524.3887\n",
      "Epoch 80/200\n",
      "32/32 [==============================] - 0s 3ms/step - loss: 394434688.0000 - root_mean_squared_error: 19860.3789 - val_loss: 919027712.0000 - val_root_mean_squared_error: 30315.4707\n",
      "Epoch 81/200\n",
      "32/32 [==============================] - 0s 2ms/step - loss: 345791040.0000 - root_mean_squared_error: 18595.4570 - val_loss: 874275136.0000 - val_root_mean_squared_error: 29568.1445\n",
      "Epoch 82/200\n",
      "32/32 [==============================] - 0s 2ms/step - loss: 382723072.0000 - root_mean_squared_error: 19563.3086 - val_loss: 851704832.0000 - val_root_mean_squared_error: 29183.9824\n",
      "Epoch 83/200\n",
      "32/32 [==============================] - 0s 3ms/step - loss: 364196192.0000 - root_mean_squared_error: 19083.9258 - val_loss: 864299264.0000 - val_root_mean_squared_error: 29398.9668\n",
      "Epoch 84/200\n",
      "32/32 [==============================] - 0s 3ms/step - loss: 329889152.0000 - root_mean_squared_error: 18162.8516 - val_loss: 834007680.0000 - val_root_mean_squared_error: 28879.1914\n",
      "Epoch 85/200\n",
      "32/32 [==============================] - 0s 3ms/step - loss: 340978560.0000 - root_mean_squared_error: 18465.6055 - val_loss: 868566656.0000 - val_root_mean_squared_error: 29471.4551\n",
      "Epoch 86/200\n",
      "32/32 [==============================] - 0s 4ms/step - loss: 353211680.0000 - root_mean_squared_error: 18793.9258 - val_loss: 861445760.0000 - val_root_mean_squared_error: 29350.3965\n",
      "Epoch 87/200\n",
      "32/32 [==============================] - 0s 3ms/step - loss: 349932640.0000 - root_mean_squared_error: 18706.4863 - val_loss: 855685696.0000 - val_root_mean_squared_error: 29252.1055\n",
      "Epoch 88/200\n",
      "32/32 [==============================] - 0s 3ms/step - loss: 334047328.0000 - root_mean_squared_error: 18276.9609 - val_loss: 938131584.0000 - val_root_mean_squared_error: 30628.9336\n",
      "Epoch 89/200\n",
      "32/32 [==============================] - 0s 3ms/step - loss: 330249920.0000 - root_mean_squared_error: 18172.7793 - val_loss: 840675712.0000 - val_root_mean_squared_error: 28994.4082\n",
      "Epoch 90/200\n",
      "32/32 [==============================] - 0s 2ms/step - loss: 318774176.0000 - root_mean_squared_error: 17854.2480 - val_loss: 920068224.0000 - val_root_mean_squared_error: 30332.6270\n",
      "Epoch 91/200\n",
      "32/32 [==============================] - 0s 3ms/step - loss: 372426880.0000 - root_mean_squared_error: 19298.3652 - val_loss: 930426240.0000 - val_root_mean_squared_error: 30502.8887\n",
      "Epoch 92/200\n",
      "32/32 [==============================] - 0s 3ms/step - loss: 341788960.0000 - root_mean_squared_error: 18487.5352 - val_loss: 847989312.0000 - val_root_mean_squared_error: 29120.2559\n",
      "Epoch 93/200\n",
      "32/32 [==============================] - 0s 3ms/step - loss: 357396064.0000 - root_mean_squared_error: 18904.9219 - val_loss: 855888704.0000 - val_root_mean_squared_error: 29255.5762\n",
      "Epoch 94/200\n",
      "32/32 [==============================] - 0s 2ms/step - loss: 312540768.0000 - root_mean_squared_error: 17678.8223 - val_loss: 887382080.0000 - val_root_mean_squared_error: 29788.9590\n",
      "Epoch 95/200\n",
      "32/32 [==============================] - 0s 2ms/step - loss: 312479904.0000 - root_mean_squared_error: 17677.1016 - val_loss: 868281600.0000 - val_root_mean_squared_error: 29466.6191\n",
      "Epoch 96/200\n",
      "32/32 [==============================] - 0s 3ms/step - loss: 311553248.0000 - root_mean_squared_error: 17650.8711 - val_loss: 843260608.0000 - val_root_mean_squared_error: 29038.9492\n",
      "Epoch 97/200\n",
      "32/32 [==============================] - 0s 3ms/step - loss: 326701024.0000 - root_mean_squared_error: 18074.8730 - val_loss: 844572352.0000 - val_root_mean_squared_error: 29061.5273\n",
      "Epoch 98/200\n",
      "32/32 [==============================] - 0s 2ms/step - loss: 300269216.0000 - root_mean_squared_error: 17328.2773 - val_loss: 852372608.0000 - val_root_mean_squared_error: 29195.4219\n",
      "Epoch 99/200\n",
      "32/32 [==============================] - 0s 2ms/step - loss: 311290816.0000 - root_mean_squared_error: 17643.4355 - val_loss: 853838272.0000 - val_root_mean_squared_error: 29220.5117\n",
      "Epoch 100/200\n",
      "32/32 [==============================] - 0s 2ms/step - loss: 320408032.0000 - root_mean_squared_error: 17899.9453 - val_loss: 901303424.0000 - val_root_mean_squared_error: 30021.7168\n",
      "Epoch 101/200\n",
      "32/32 [==============================] - 0s 2ms/step - loss: 289841696.0000 - root_mean_squared_error: 17024.7383 - val_loss: 817018176.0000 - val_root_mean_squared_error: 28583.5293\n",
      "Epoch 102/200\n",
      "32/32 [==============================] - 0s 3ms/step - loss: 290446048.0000 - root_mean_squared_error: 17042.4785 - val_loss: 825531392.0000 - val_root_mean_squared_error: 28732.0625\n",
      "Epoch 103/200\n",
      "32/32 [==============================] - 0s 3ms/step - loss: 351557792.0000 - root_mean_squared_error: 18749.8750 - val_loss: 847411072.0000 - val_root_mean_squared_error: 29110.3262\n",
      "Epoch 104/200\n",
      "32/32 [==============================] - 0s 2ms/step - loss: 318479872.0000 - root_mean_squared_error: 17846.0039 - val_loss: 867019968.0000 - val_root_mean_squared_error: 29445.2031\n",
      "Epoch 105/200\n",
      "32/32 [==============================] - 0s 2ms/step - loss: 332376320.0000 - root_mean_squared_error: 18231.1914 - val_loss: 848952960.0000 - val_root_mean_squared_error: 29136.7969\n",
      "Epoch 106/200\n",
      "32/32 [==============================] - 0s 2ms/step - loss: 277197024.0000 - root_mean_squared_error: 16649.2344 - val_loss: 825384896.0000 - val_root_mean_squared_error: 28729.5117\n",
      "Epoch 107/200\n",
      "32/32 [==============================] - 0s 2ms/step - loss: 313355168.0000 - root_mean_squared_error: 17701.8398 - val_loss: 917488576.0000 - val_root_mean_squared_error: 30290.0742\n",
      "Epoch 108/200\n",
      "32/32 [==============================] - 0s 3ms/step - loss: 294349856.0000 - root_mean_squared_error: 17156.6270 - val_loss: 814186752.0000 - val_root_mean_squared_error: 28533.9570\n",
      "Epoch 109/200\n",
      "32/32 [==============================] - 0s 3ms/step - loss: 280344864.0000 - root_mean_squared_error: 16743.5020 - val_loss: 813262784.0000 - val_root_mean_squared_error: 28517.7617\n",
      "Epoch 110/200\n",
      "32/32 [==============================] - 0s 2ms/step - loss: 288318560.0000 - root_mean_squared_error: 16979.9453 - val_loss: 886364608.0000 - val_root_mean_squared_error: 29771.8770\n",
      "Epoch 111/200\n",
      "32/32 [==============================] - 0s 3ms/step - loss: 277027616.0000 - root_mean_squared_error: 16644.1465 - val_loss: 823087616.0000 - val_root_mean_squared_error: 28689.5039\n",
      "Epoch 112/200\n",
      "32/32 [==============================] - 0s 3ms/step - loss: 269694016.0000 - root_mean_squared_error: 16422.3633 - val_loss: 862961984.0000 - val_root_mean_squared_error: 29376.2148\n",
      "Epoch 113/200\n",
      "32/32 [==============================] - 0s 2ms/step - loss: 278331360.0000 - root_mean_squared_error: 16683.2656 - val_loss: 826134464.0000 - val_root_mean_squared_error: 28742.5547\n",
      "Epoch 114/200\n",
      "32/32 [==============================] - 0s 3ms/step - loss: 287257184.0000 - root_mean_squared_error: 16948.6641 - val_loss: 834632064.0000 - val_root_mean_squared_error: 28890.0000\n",
      "Epoch 115/200\n",
      "32/32 [==============================] - 0s 3ms/step - loss: 328399424.0000 - root_mean_squared_error: 18121.7949 - val_loss: 832524352.0000 - val_root_mean_squared_error: 28853.4980\n",
      "Epoch 116/200\n",
      "32/32 [==============================] - 0s 2ms/step - loss: 274260288.0000 - root_mean_squared_error: 16560.8066 - val_loss: 893438848.0000 - val_root_mean_squared_error: 29890.4473\n",
      "Epoch 117/200\n",
      "32/32 [==============================] - 0s 2ms/step - loss: 274787936.0000 - root_mean_squared_error: 16576.7285 - val_loss: 803050304.0000 - val_root_mean_squared_error: 28338.1426\n",
      "Epoch 118/200\n",
      "32/32 [==============================] - 0s 2ms/step - loss: 282751328.0000 - root_mean_squared_error: 16815.2109 - val_loss: 805987584.0000 - val_root_mean_squared_error: 28389.9199\n",
      "Epoch 119/200\n",
      "32/32 [==============================] - 0s 2ms/step - loss: 282431904.0000 - root_mean_squared_error: 16805.7109 - val_loss: 832590592.0000 - val_root_mean_squared_error: 28854.6465\n",
      "Epoch 120/200\n",
      "32/32 [==============================] - 0s 3ms/step - loss: 270463424.0000 - root_mean_squared_error: 16445.7715 - val_loss: 831414976.0000 - val_root_mean_squared_error: 28834.2676\n",
      "Epoch 121/200\n",
      "32/32 [==============================] - 0s 3ms/step - loss: 251395872.0000 - root_mean_squared_error: 15855.4678 - val_loss: 808715456.0000 - val_root_mean_squared_error: 28437.9219\n",
      "Epoch 122/200\n",
      "32/32 [==============================] - 0s 3ms/step - loss: 289216544.0000 - root_mean_squared_error: 17006.3672 - val_loss: 1085620480.0000 - val_root_mean_squared_error: 32948.7539\n",
      "Epoch 123/200\n",
      "32/32 [==============================] - 0s 3ms/step - loss: 346788256.0000 - root_mean_squared_error: 18622.2520 - val_loss: 793055552.0000 - val_root_mean_squared_error: 28161.2422\n",
      "Epoch 124/200\n",
      "32/32 [==============================] - 0s 3ms/step - loss: 251362928.0000 - root_mean_squared_error: 15854.4297 - val_loss: 861029952.0000 - val_root_mean_squared_error: 29343.3125\n",
      "Epoch 125/200\n",
      "32/32 [==============================] - 0s 3ms/step - loss: 290308640.0000 - root_mean_squared_error: 17038.4453 - val_loss: 791024704.0000 - val_root_mean_squared_error: 28125.1621\n",
      "Epoch 126/200\n",
      "32/32 [==============================] - 0s 3ms/step - loss: 263110352.0000 - root_mean_squared_error: 16220.6768 - val_loss: 800829504.0000 - val_root_mean_squared_error: 28298.9316\n",
      "Epoch 127/200\n",
      "32/32 [==============================] - 0s 3ms/step - loss: 253778784.0000 - root_mean_squared_error: 15930.4355 - val_loss: 806568000.0000 - val_root_mean_squared_error: 28400.1406\n",
      "Epoch 128/200\n",
      "32/32 [==============================] - 0s 3ms/step - loss: 287011328.0000 - root_mean_squared_error: 16941.4082 - val_loss: 838780928.0000 - val_root_mean_squared_error: 28961.7148\n",
      "Epoch 129/200\n",
      "32/32 [==============================] - 0s 3ms/step - loss: 261666752.0000 - root_mean_squared_error: 16176.1172 - val_loss: 813112384.0000 - val_root_mean_squared_error: 28515.1250\n",
      "Epoch 130/200\n",
      "32/32 [==============================] - 0s 3ms/step - loss: 254082256.0000 - root_mean_squared_error: 15939.9580 - val_loss: 911932032.0000 - val_root_mean_squared_error: 30198.2129\n",
      "Epoch 131/200\n",
      "32/32 [==============================] - 0s 3ms/step - loss: 252960896.0000 - root_mean_squared_error: 15904.7441 - val_loss: 975388544.0000 - val_root_mean_squared_error: 31231.2109\n",
      "Epoch 132/200\n",
      "32/32 [==============================] - 0s 3ms/step - loss: 304085440.0000 - root_mean_squared_error: 17438.0449 - val_loss: 826517312.0000 - val_root_mean_squared_error: 28749.2148\n",
      "Epoch 133/200\n",
      "32/32 [==============================] - 0s 2ms/step - loss: 256577408.0000 - root_mean_squared_error: 16018.0342 - val_loss: 856073472.0000 - val_root_mean_squared_error: 29258.7324\n",
      "Epoch 134/200\n",
      "32/32 [==============================] - 0s 3ms/step - loss: 235759696.0000 - root_mean_squared_error: 15354.4688 - val_loss: 907913344.0000 - val_root_mean_squared_error: 30131.5996\n",
      "Epoch 135/200\n",
      "32/32 [==============================] - 0s 2ms/step - loss: 284256160.0000 - root_mean_squared_error: 16859.8984 - val_loss: 794790912.0000 - val_root_mean_squared_error: 28192.0371\n",
      "Epoch 136/200\n",
      "32/32 [==============================] - 0s 2ms/step - loss: 255757360.0000 - root_mean_squared_error: 15992.4160 - val_loss: 797332928.0000 - val_root_mean_squared_error: 28237.0840\n",
      "Epoch 137/200\n",
      "32/32 [==============================] - 0s 3ms/step - loss: 250156688.0000 - root_mean_squared_error: 15816.3428 - val_loss: 808797376.0000 - val_root_mean_squared_error: 28439.3633\n",
      "Epoch 138/200\n",
      "32/32 [==============================] - 0s 3ms/step - loss: 221537568.0000 - root_mean_squared_error: 14884.1377 - val_loss: 810668672.0000 - val_root_mean_squared_error: 28472.2441\n",
      "Epoch 139/200\n",
      "32/32 [==============================] - 0s 3ms/step - loss: 257865184.0000 - root_mean_squared_error: 16058.1816 - val_loss: 786728064.0000 - val_root_mean_squared_error: 28048.6738\n",
      "Epoch 140/200\n",
      "32/32 [==============================] - 0s 2ms/step - loss: 249615392.0000 - root_mean_squared_error: 15799.2217 - val_loss: 816330688.0000 - val_root_mean_squared_error: 28571.5020\n",
      "Epoch 141/200\n",
      "32/32 [==============================] - 0s 3ms/step - loss: 256707072.0000 - root_mean_squared_error: 16022.0811 - val_loss: 884928256.0000 - val_root_mean_squared_error: 29747.7441\n",
      "Epoch 142/200\n",
      "32/32 [==============================] - 0s 3ms/step - loss: 255146640.0000 - root_mean_squared_error: 15973.3105 - val_loss: 799550656.0000 - val_root_mean_squared_error: 28276.3262\n",
      "Epoch 143/200\n",
      "32/32 [==============================] - 0s 3ms/step - loss: 265105744.0000 - root_mean_squared_error: 16282.0684 - val_loss: 784795904.0000 - val_root_mean_squared_error: 28014.2090\n",
      "Epoch 144/200\n",
      "32/32 [==============================] - 0s 2ms/step - loss: 245795056.0000 - root_mean_squared_error: 15677.8525 - val_loss: 820937024.0000 - val_root_mean_squared_error: 28651.9980\n",
      "Epoch 145/200\n",
      "32/32 [==============================] - 0s 3ms/step - loss: 244837776.0000 - root_mean_squared_error: 15647.2930 - val_loss: 773349952.0000 - val_root_mean_squared_error: 27809.1699\n",
      "Epoch 146/200\n",
      "32/32 [==============================] - 0s 3ms/step - loss: 236274480.0000 - root_mean_squared_error: 15371.2227 - val_loss: 833778240.0000 - val_root_mean_squared_error: 28875.2188\n",
      "Epoch 147/200\n",
      "32/32 [==============================] - 0s 3ms/step - loss: 241322608.0000 - root_mean_squared_error: 15534.5615 - val_loss: 810661632.0000 - val_root_mean_squared_error: 28472.1211\n",
      "Epoch 148/200\n",
      "32/32 [==============================] - 0s 3ms/step - loss: 227985088.0000 - root_mean_squared_error: 15099.1748 - val_loss: 778868928.0000 - val_root_mean_squared_error: 27908.2227\n",
      "Epoch 149/200\n",
      "32/32 [==============================] - 0s 2ms/step - loss: 221533328.0000 - root_mean_squared_error: 14883.9961 - val_loss: 796693120.0000 - val_root_mean_squared_error: 28225.7520\n",
      "Epoch 150/200\n",
      "32/32 [==============================] - 0s 2ms/step - loss: 221289856.0000 - root_mean_squared_error: 14875.8145 - val_loss: 775628928.0000 - val_root_mean_squared_error: 27850.1152\n",
      "Epoch 151/200\n",
      "32/32 [==============================] - 0s 3ms/step - loss: 212950944.0000 - root_mean_squared_error: 14592.8389 - val_loss: 777969792.0000 - val_root_mean_squared_error: 27892.1094\n",
      "Epoch 152/200\n",
      "32/32 [==============================] - 0s 3ms/step - loss: 211040912.0000 - root_mean_squared_error: 14527.2471 - val_loss: 783711232.0000 - val_root_mean_squared_error: 27994.8438\n",
      "Epoch 153/200\n",
      "32/32 [==============================] - 0s 2ms/step - loss: 219757488.0000 - root_mean_squared_error: 14824.2197 - val_loss: 801026560.0000 - val_root_mean_squared_error: 28302.4121\n",
      "Epoch 154/200\n",
      "32/32 [==============================] - 0s 3ms/step - loss: 223593360.0000 - root_mean_squared_error: 14953.0381 - val_loss: 852695936.0000 - val_root_mean_squared_error: 29200.9570\n",
      "Epoch 155/200\n",
      "32/32 [==============================] - 0s 3ms/step - loss: 218161712.0000 - root_mean_squared_error: 14770.2979 - val_loss: 792398080.0000 - val_root_mean_squared_error: 28149.5664\n",
      "Epoch 156/200\n",
      "32/32 [==============================] - 0s 3ms/step - loss: 224161200.0000 - root_mean_squared_error: 14972.0137 - val_loss: 817286656.0000 - val_root_mean_squared_error: 28588.2266\n",
      "Epoch 157/200\n",
      "32/32 [==============================] - 0s 3ms/step - loss: 265836176.0000 - root_mean_squared_error: 16304.4834 - val_loss: 936989632.0000 - val_root_mean_squared_error: 30610.2871\n",
      "Epoch 158/200\n",
      "32/32 [==============================] - 0s 3ms/step - loss: 260452256.0000 - root_mean_squared_error: 16138.5332 - val_loss: 769738432.0000 - val_root_mean_squared_error: 27744.1602\n",
      "Epoch 159/200\n",
      "32/32 [==============================] - 0s 3ms/step - loss: 244583680.0000 - root_mean_squared_error: 15639.1709 - val_loss: 814294848.0000 - val_root_mean_squared_error: 28535.8516\n",
      "Epoch 160/200\n",
      "32/32 [==============================] - 0s 3ms/step - loss: 226588816.0000 - root_mean_squared_error: 15052.8672 - val_loss: 823112704.0000 - val_root_mean_squared_error: 28689.9414\n",
      "Epoch 161/200\n",
      "32/32 [==============================] - 0s 2ms/step - loss: 224613392.0000 - root_mean_squared_error: 14987.1074 - val_loss: 792336704.0000 - val_root_mean_squared_error: 28148.4766\n",
      "Epoch 162/200\n",
      "32/32 [==============================] - 0s 3ms/step - loss: 290373664.0000 - root_mean_squared_error: 17040.3535 - val_loss: 807887168.0000 - val_root_mean_squared_error: 28423.3555\n",
      "Epoch 163/200\n",
      "32/32 [==============================] - 0s 2ms/step - loss: 207365936.0000 - root_mean_squared_error: 14400.2061 - val_loss: 777540736.0000 - val_root_mean_squared_error: 27884.4180\n",
      "Epoch 164/200\n",
      "32/32 [==============================] - 0s 3ms/step - loss: 219241456.0000 - root_mean_squared_error: 14806.8047 - val_loss: 774807936.0000 - val_root_mean_squared_error: 27835.3711\n",
      "Epoch 165/200\n",
      "32/32 [==============================] - 0s 3ms/step - loss: 207023600.0000 - root_mean_squared_error: 14388.3145 - val_loss: 802134848.0000 - val_root_mean_squared_error: 28321.9844\n",
      "Epoch 166/200\n",
      "32/32 [==============================] - 0s 2ms/step - loss: 197252928.0000 - root_mean_squared_error: 14044.6758 - val_loss: 797525760.0000 - val_root_mean_squared_error: 28240.4980\n",
      "Epoch 167/200\n",
      "32/32 [==============================] - 0s 3ms/step - loss: 214930528.0000 - root_mean_squared_error: 14660.5088 - val_loss: 783879040.0000 - val_root_mean_squared_error: 27997.8398\n",
      "Epoch 168/200\n",
      "32/32 [==============================] - 0s 3ms/step - loss: 220803184.0000 - root_mean_squared_error: 14859.4473 - val_loss: 790743360.0000 - val_root_mean_squared_error: 28120.1602\n",
      "Epoch 169/200\n",
      "32/32 [==============================] - 0s 3ms/step - loss: 225380256.0000 - root_mean_squared_error: 15012.6699 - val_loss: 769893056.0000 - val_root_mean_squared_error: 27746.9473\n",
      "Epoch 170/200\n",
      "32/32 [==============================] - 0s 3ms/step - loss: 203042928.0000 - root_mean_squared_error: 14249.3135 - val_loss: 802750336.0000 - val_root_mean_squared_error: 28332.8496\n",
      "Epoch 171/200\n",
      "32/32 [==============================] - 0s 3ms/step - loss: 201280448.0000 - root_mean_squared_error: 14187.3340 - val_loss: 761215808.0000 - val_root_mean_squared_error: 27590.1406\n",
      "Epoch 172/200\n",
      "32/32 [==============================] - 0s 5ms/step - loss: 231310944.0000 - root_mean_squared_error: 15208.9102 - val_loss: 750835392.0000 - val_root_mean_squared_error: 27401.3750\n",
      "Epoch 173/200\n",
      "32/32 [==============================] - 0s 4ms/step - loss: 197823872.0000 - root_mean_squared_error: 14064.9873 - val_loss: 783659264.0000 - val_root_mean_squared_error: 27993.9141\n",
      "Epoch 174/200\n",
      "32/32 [==============================] - 0s 4ms/step - loss: 198716352.0000 - root_mean_squared_error: 14096.6787 - val_loss: 836241536.0000 - val_root_mean_squared_error: 28917.8418\n",
      "Epoch 175/200\n",
      "32/32 [==============================] - 0s 5ms/step - loss: 204883168.0000 - root_mean_squared_error: 14313.7402 - val_loss: 791698880.0000 - val_root_mean_squared_error: 28137.1445\n",
      "Epoch 176/200\n",
      "32/32 [==============================] - 0s 4ms/step - loss: 227936464.0000 - root_mean_squared_error: 15097.5645 - val_loss: 764960576.0000 - val_root_mean_squared_error: 27657.9199\n",
      "Epoch 177/200\n",
      "32/32 [==============================] - 0s 4ms/step - loss: 217957536.0000 - root_mean_squared_error: 14763.3848 - val_loss: 768568704.0000 - val_root_mean_squared_error: 27723.0723\n",
      "Epoch 178/200\n",
      "32/32 [==============================] - 0s 5ms/step - loss: 192633136.0000 - root_mean_squared_error: 13879.2344 - val_loss: 809063680.0000 - val_root_mean_squared_error: 28444.0449\n",
      "Epoch 179/200\n",
      "32/32 [==============================] - 0s 5ms/step - loss: 200377360.0000 - root_mean_squared_error: 14155.4707 - val_loss: 753326272.0000 - val_root_mean_squared_error: 27446.7891\n",
      "Epoch 180/200\n",
      "32/32 [==============================] - 0s 4ms/step - loss: 201752272.0000 - root_mean_squared_error: 14203.9531 - val_loss: 762131456.0000 - val_root_mean_squared_error: 27606.7285\n",
      "Epoch 181/200\n",
      "32/32 [==============================] - 0s 5ms/step - loss: 196677216.0000 - root_mean_squared_error: 14024.1650 - val_loss: 894183488.0000 - val_root_mean_squared_error: 29902.9004\n",
      "Epoch 182/200\n",
      "32/32 [==============================] - 0s 4ms/step - loss: 197576304.0000 - root_mean_squared_error: 14056.1836 - val_loss: 783363264.0000 - val_root_mean_squared_error: 27988.6270\n",
      "Epoch 183/200\n",
      "32/32 [==============================] - 0s 4ms/step - loss: 189830464.0000 - root_mean_squared_error: 13777.8975 - val_loss: 753719296.0000 - val_root_mean_squared_error: 27453.9492\n",
      "Epoch 184/200\n",
      "32/32 [==============================] - 0s 5ms/step - loss: 199098160.0000 - root_mean_squared_error: 14110.2148 - val_loss: 858910976.0000 - val_root_mean_squared_error: 29307.1836\n",
      "Epoch 185/200\n",
      "32/32 [==============================] - 0s 5ms/step - loss: 242549008.0000 - root_mean_squared_error: 15573.9854 - val_loss: 741770176.0000 - val_root_mean_squared_error: 27235.4590\n",
      "Epoch 186/200\n",
      "32/32 [==============================] - 0s 5ms/step - loss: 198507408.0000 - root_mean_squared_error: 14089.2656 - val_loss: 760310144.0000 - val_root_mean_squared_error: 27573.7227\n",
      "Epoch 187/200\n",
      "32/32 [==============================] - 0s 5ms/step - loss: 194511408.0000 - root_mean_squared_error: 13946.7344 - val_loss: 830366912.0000 - val_root_mean_squared_error: 28816.0879\n",
      "Epoch 188/200\n",
      "32/32 [==============================] - 0s 4ms/step - loss: 186329712.0000 - root_mean_squared_error: 13650.2646 - val_loss: 763971200.0000 - val_root_mean_squared_error: 27640.0293\n",
      "Epoch 189/200\n",
      "32/32 [==============================] - 0s 5ms/step - loss: 178185808.0000 - root_mean_squared_error: 13348.6260 - val_loss: 751620800.0000 - val_root_mean_squared_error: 27415.7031\n",
      "Epoch 190/200\n",
      "32/32 [==============================] - 0s 5ms/step - loss: 208677152.0000 - root_mean_squared_error: 14445.6621 - val_loss: 837425600.0000 - val_root_mean_squared_error: 28938.3066\n",
      "Epoch 191/200\n",
      "32/32 [==============================] - 0s 5ms/step - loss: 188927088.0000 - root_mean_squared_error: 13745.0752 - val_loss: 861263936.0000 - val_root_mean_squared_error: 29347.2988\n",
      "Epoch 192/200\n",
      "32/32 [==============================] - 0s 5ms/step - loss: 177601520.0000 - root_mean_squared_error: 13326.7217 - val_loss: 731822976.0000 - val_root_mean_squared_error: 27052.2266\n",
      "Epoch 193/200\n",
      "32/32 [==============================] - 0s 5ms/step - loss: 187349776.0000 - root_mean_squared_error: 13687.5771 - val_loss: 758952000.0000 - val_root_mean_squared_error: 27549.0840\n",
      "Epoch 194/200\n",
      "32/32 [==============================] - 0s 4ms/step - loss: 178786816.0000 - root_mean_squared_error: 13371.1191 - val_loss: 740550272.0000 - val_root_mean_squared_error: 27213.0527\n",
      "Epoch 195/200\n",
      "32/32 [==============================] - 0s 4ms/step - loss: 185419808.0000 - root_mean_squared_error: 13616.8945 - val_loss: 781977664.0000 - val_root_mean_squared_error: 27963.8633\n",
      "Epoch 196/200\n",
      "32/32 [==============================] - 0s 5ms/step - loss: 192065504.0000 - root_mean_squared_error: 13858.7695 - val_loss: 754690112.0000 - val_root_mean_squared_error: 27471.6230\n",
      "Epoch 197/200\n",
      "32/32 [==============================] - 0s 4ms/step - loss: 169929200.0000 - root_mean_squared_error: 13035.6895 - val_loss: 785773632.0000 - val_root_mean_squared_error: 28031.6543\n",
      "Epoch 198/200\n",
      "32/32 [==============================] - 0s 5ms/step - loss: 172891584.0000 - root_mean_squared_error: 13148.8242 - val_loss: 737095296.0000 - val_root_mean_squared_error: 27149.4980\n",
      "Epoch 199/200\n",
      "32/32 [==============================] - 0s 5ms/step - loss: 170646912.0000 - root_mean_squared_error: 13063.1895 - val_loss: 750434240.0000 - val_root_mean_squared_error: 27394.0547\n",
      "Epoch 200/200\n",
      "32/32 [==============================] - 0s 5ms/step - loss: 174976848.0000 - root_mean_squared_error: 13227.8818 - val_loss: 779184640.0000 - val_root_mean_squared_error: 27913.8789\n"
     ]
    },
    {
     "data": {
      "text/plain": [
       "<tensorflow.python.keras.callbacks.History at 0x118ed9fd0>"
      ]
     },
     "execution_count": 15,
     "metadata": {},
     "output_type": "execute_result"
    }
   ],
   "source": [
    "ann.fit(X_train, y_train, batch_size=32, epochs=200, validation_data=(X_test, y_test))"
   ]
  },
  {
   "cell_type": "code",
   "execution_count": 16,
   "metadata": {
    "colab": {
     "base_uri": "https://localhost:8080/",
     "height": 34
    },
    "executionInfo": {
     "elapsed": 35312,
     "status": "ok",
     "timestamp": 1602855445115,
     "user": {
      "displayName": "Jussi H",
      "photoUrl": "https://lh3.googleusercontent.com/a-/AOh14GhvUUHHpBpoNcz3fQE4SRKODRl1eKr7FjrvdebRSQ=s64",
      "userId": "01605438575348390897"
     },
     "user_tz": -180
    },
    "id": "3ku1C0v4w_Zp",
    "outputId": "ce92a313-df43-4fdd-bd43-5b777de9593a"
   },
   "outputs": [
    {
     "name": "stdout",
     "output_type": "stream",
     "text": [
      "0.8908751373785729\n"
     ]
    }
   ],
   "source": [
    "y_pred = ann.predict(X_test)\n",
    "print(r2_score(y_test, y_pred))"
   ]
  },
  {
   "cell_type": "code",
   "execution_count": 17,
   "metadata": {
    "colab": {
     "base_uri": "https://localhost:8080/",
     "height": 34
    },
    "executionInfo": {
     "elapsed": 35288,
     "status": "ok",
     "timestamp": 1602855445116,
     "user": {
      "displayName": "Jussi H",
      "photoUrl": "https://lh3.googleusercontent.com/a-/AOh14GhvUUHHpBpoNcz3fQE4SRKODRl1eKr7FjrvdebRSQ=s64",
      "userId": "01605438575348390897"
     },
     "user_tz": -180
    },
    "id": "09VGEv42xLTY",
    "outputId": "decbca2e-57ef-4505-8a95-2c0be9a9694d"
   },
   "outputs": [
    {
     "name": "stdout",
     "output_type": "stream",
     "text": [
      "RMSE: 27913.877635\n"
     ]
    }
   ],
   "source": [
    "rmse = np.sqrt(mean_squared_error(y_test, y_pred))\n",
    "print(\"RMSE: %f\" % (rmse))"
   ]
  },
  {
   "cell_type": "code",
   "execution_count": 18,
   "metadata": {
    "colab": {
     "base_uri": "https://localhost:8080/",
     "height": 34
    },
    "executionInfo": {
     "elapsed": 35281,
     "status": "ok",
     "timestamp": 1602855445117,
     "user": {
      "displayName": "Jussi H",
      "photoUrl": "https://lh3.googleusercontent.com/a-/AOh14GhvUUHHpBpoNcz3fQE4SRKODRl1eKr7FjrvdebRSQ=s64",
      "userId": "01605438575348390897"
     },
     "user_tz": -180
    },
    "id": "f2fTSYqVxjS3",
    "outputId": "28794cd2-0a87-4a04-ea17-c5d5ee5d78b2"
   },
   "outputs": [
    {
     "name": "stdout",
     "output_type": "stream",
     "text": [
      "File ann_reg_01.csv created!\n"
     ]
    }
   ],
   "source": [
    "preds = ann.predict(test_data)\n",
    "preds_to_file(test_all, preds, \"ann_reg_01.csv\")"
   ]
  }
 ],
 "metadata": {
  "colab": {
   "authorship_tag": "ABX9TyMroc9M7LfVqgtjWFGKrEU/",
   "collapsed_sections": [],
   "name": "06 Artificial Neural Network.ipynb",
   "provenance": [
    {
     "file_id": "1YLXla64RXuNjVJb1fVQ57uX2knNRao2z",
     "timestamp": 1602846146319
    },
    {
     "file_id": "1wuOeTPaCXCCCo5a4FDW_Wxd8l-aS4I5s",
     "timestamp": 1602844065000
    },
    {
     "file_id": "17ZuufBB2HmKi9WiiZeqHbIPWc2g-MQu9",
     "timestamp": 1602843877426
    },
    {
     "file_id": "1hmO1pIrgc6LGL1YlgMr8ecMMV3Pcgn4q",
     "timestamp": 1602843675257
    },
    {
     "file_id": "1CqqIMJGNoASzrXWx-_H4eSbkCB2FAjwT",
     "timestamp": 1602843401113
    }
   ]
  },
  "kernelspec": {
   "display_name": "Python 3",
   "language": "python",
   "name": "python3"
  },
  "language_info": {
   "codemirror_mode": {
    "name": "ipython",
    "version": 3
   },
   "file_extension": ".py",
   "mimetype": "text/x-python",
   "name": "python",
   "nbconvert_exporter": "python",
   "pygments_lexer": "ipython3",
   "version": "3.8.3"
  }
 },
 "nbformat": 4,
 "nbformat_minor": 4
}
