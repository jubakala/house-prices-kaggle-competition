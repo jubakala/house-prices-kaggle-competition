{
 "cells": [
  {
   "cell_type": "markdown",
   "metadata": {
    "id": "ghegyzIMynRT"
   },
   "source": [
    "# Decision Tree Regression"
   ]
  },
  {
   "cell_type": "markdown",
   "metadata": {
    "id": "VypiqP9cyrBZ"
   },
   "source": [
    "Decision Tree Regression with the following configuration reached a root-mean-squared-error of 0.224."
   ]
  },
  {
   "cell_type": "code",
   "execution_count": 1,
   "metadata": {
    "executionInfo": {
     "elapsed": 683,
     "status": "ok",
     "timestamp": 1602843816863,
     "user": {
      "displayName": "Jussi H",
      "photoUrl": "https://lh3.googleusercontent.com/a-/AOh14GhvUUHHpBpoNcz3fQE4SRKODRl1eKr7FjrvdebRSQ=s64",
      "userId": "01605438575348390897"
     },
     "user_tz": -180
    },
    "id": "HIARsvsCs_wr"
   },
   "outputs": [],
   "source": [
    "import pandas as pd\n",
    "import numpy as np"
   ]
  },
  {
   "cell_type": "code",
   "execution_count": 2,
   "metadata": {
    "executionInfo": {
     "elapsed": 600,
     "status": "ok",
     "timestamp": 1602843816864,
     "user": {
      "displayName": "Jussi H",
      "photoUrl": "https://lh3.googleusercontent.com/a-/AOh14GhvUUHHpBpoNcz3fQE4SRKODRl1eKr7FjrvdebRSQ=s64",
      "userId": "01605438575348390897"
     },
     "user_tz": -180
    },
    "id": "VmvGgjaw6kW5"
   },
   "outputs": [],
   "source": [
    "from sklearn.tree import DecisionTreeRegressor"
   ]
  },
  {
   "cell_type": "code",
   "execution_count": 3,
   "metadata": {
    "executionInfo": {
     "elapsed": 591,
     "status": "ok",
     "timestamp": 1602843816865,
     "user": {
      "displayName": "Jussi H",
      "photoUrl": "https://lh3.googleusercontent.com/a-/AOh14GhvUUHHpBpoNcz3fQE4SRKODRl1eKr7FjrvdebRSQ=s64",
      "userId": "01605438575348390897"
     },
     "user_tz": -180
    },
    "id": "zfD1Ezn5wokN"
   },
   "outputs": [],
   "source": [
    "from sklearn.model_selection import train_test_split\n",
    "from sklearn.metrics import r2_score\n",
    "from sklearn.compose import ColumnTransformer\n",
    "from sklearn.preprocessing import OneHotEncoder\n",
    "from sklearn.preprocessing import StandardScaler\n",
    "from sklearn.metrics import mean_squared_error"
   ]
  },
  {
   "cell_type": "code",
   "execution_count": 4,
   "metadata": {
    "executionInfo": {
     "elapsed": 582,
     "status": "ok",
     "timestamp": 1602843816867,
     "user": {
      "displayName": "Jussi H",
      "photoUrl": "https://lh3.googleusercontent.com/a-/AOh14GhvUUHHpBpoNcz3fQE4SRKODRl1eKr7FjrvdebRSQ=s64",
      "userId": "01605438575348390897"
     },
     "user_tz": -180
    },
    "id": "e0Y71fl9p4XI"
   },
   "outputs": [],
   "source": [
    "train = pd.read_csv('dataset.csv')\n",
    "# train = train[train['SalePrice'] < 500000]\n",
    "\n",
    "testset = pd.read_csv('testset.csv')\n",
    "test_all = pd.read_csv('test.csv')"
   ]
  },
  {
   "cell_type": "code",
   "execution_count": 5,
   "metadata": {
    "executionInfo": {
     "elapsed": 855,
     "status": "ok",
     "timestamp": 1602843817144,
     "user": {
      "displayName": "Jussi H",
      "photoUrl": "https://lh3.googleusercontent.com/a-/AOh14GhvUUHHpBpoNcz3fQE4SRKODRl1eKr7FjrvdebRSQ=s64",
      "userId": "01605438575348390897"
     },
     "user_tz": -180
    },
    "id": "mPHtn0vHv_pU"
   },
   "outputs": [],
   "source": [
    "train = train.drop(['Id'], axis=1)\n",
    "test = testset.drop(['Id'], axis=1)"
   ]
  },
  {
   "cell_type": "code",
   "execution_count": 6,
   "metadata": {
    "executionInfo": {
     "elapsed": 851,
     "status": "ok",
     "timestamp": 1602843817145,
     "user": {
      "displayName": "Jussi H",
      "photoUrl": "https://lh3.googleusercontent.com/a-/AOh14GhvUUHHpBpoNcz3fQE4SRKODRl1eKr7FjrvdebRSQ=s64",
      "userId": "01605438575348390897"
     },
     "user_tz": -180
    },
    "id": "MldO0knUwDME"
   },
   "outputs": [],
   "source": [
    "X = train.iloc[:, :-1].values\n",
    "y = train.iloc[:, -1].values\n",
    "test_data = test.iloc[:,:].values"
   ]
  },
  {
   "cell_type": "code",
   "execution_count": 7,
   "metadata": {
    "executionInfo": {
     "elapsed": 845,
     "status": "ok",
     "timestamp": 1602843817145,
     "user": {
      "displayName": "Jussi H",
      "photoUrl": "https://lh3.googleusercontent.com/a-/AOh14GhvUUHHpBpoNcz3fQE4SRKODRl1eKr7FjrvdebRSQ=s64",
      "userId": "01605438575348390897"
     },
     "user_tz": -180
    },
    "id": "UGGJYbPnwLSi"
   },
   "outputs": [],
   "source": [
    "def transform_columns(X, test_data, columns):\n",
    "    ct = ColumnTransformer(transformers=[('encoder', OneHotEncoder(), columns)], remainder='passthrough')\n",
    "    # X = np.array(ct.fit_transform(X))\n",
    "    X = ct.fit_transform(X)\n",
    "    # test_data = np.array(ct.transform(test_data))\n",
    "    test_data = ct.transform(test_data)\n",
    "\n",
    "    return X, test_data\n",
    "\n",
    "def standardize(X_train, X_test, test_data):\n",
    "    sc = StandardScaler(with_mean=False)\n",
    "    X_train = sc.fit_transform(X_train)\n",
    "    X_test = sc.transform(X_test)\n",
    "    test_data = sc.transform(test_data)\n",
    "\n",
    "    return X_train, X_test, test_data\n",
    "\n",
    "def get_model():\n",
    "    return DecisionTreeRegressor(random_state=0)\n",
    "    \n",
    "def preds_to_file(test_all, preds, filename):\n",
    "    output = pd.DataFrame({'Id': test_all.Id, 'SalePrice': preds})\n",
    "    output.to_csv(filename, index=False)\n",
    "    print(f\"File {filename} created!\")"
   ]
  },
  {
   "cell_type": "code",
   "execution_count": 8,
   "metadata": {
    "executionInfo": {
     "elapsed": 842,
     "status": "ok",
     "timestamp": 1602843817148,
     "user": {
      "displayName": "Jussi H",
      "photoUrl": "https://lh3.googleusercontent.com/a-/AOh14GhvUUHHpBpoNcz3fQE4SRKODRl1eKr7FjrvdebRSQ=s64",
      "userId": "01605438575348390897"
     },
     "user_tz": -180
    },
    "id": "OOeXuO4LwOsB"
   },
   "outputs": [],
   "source": [
    " categorical_cols = [1, 4, 5, 6, 7, 8, 9, 10, 11, 12, 13, 14, 19, 20, 21, 22, 23, 24, 25, 26, 27, 28, 29, 30, 32, 36, 37, 38, 39, 50, 52, 54, 56, 59, 60, 61, 71, 72]\n",
    " X, test_data = transform_columns(X, test_data, categorical_cols)\n",
    " X = X.toarray()\n",
    " test_data = test_data.toarray()"
   ]
  },
  {
   "cell_type": "code",
   "execution_count": 9,
   "metadata": {
    "executionInfo": {
     "elapsed": 838,
     "status": "ok",
     "timestamp": 1602843817149,
     "user": {
      "displayName": "Jussi H",
      "photoUrl": "https://lh3.googleusercontent.com/a-/AOh14GhvUUHHpBpoNcz3fQE4SRKODRl1eKr7FjrvdebRSQ=s64",
      "userId": "01605438575348390897"
     },
     "user_tz": -180
    },
    "id": "y9D1Cn7Awwq_"
   },
   "outputs": [],
   "source": [
    "X_train, X_test, y_train, y_test = train_test_split(X, y, test_size=0.3, random_state=1)\n",
    "X_train, X_test, test_data = standardize(X_train, X_test, test_data)"
   ]
  },
  {
   "cell_type": "code",
   "execution_count": 10,
   "metadata": {
    "colab": {
     "base_uri": "https://localhost:8080/",
     "height": 119
    },
    "executionInfo": {
     "elapsed": 836,
     "status": "ok",
     "timestamp": 1602843817151,
     "user": {
      "displayName": "Jussi H",
      "photoUrl": "https://lh3.googleusercontent.com/a-/AOh14GhvUUHHpBpoNcz3fQE4SRKODRl1eKr7FjrvdebRSQ=s64",
      "userId": "01605438575348390897"
     },
     "user_tz": -180
    },
    "id": "1P6Tu4izw7uL",
    "outputId": "888b5375-d87d-49d6-fabd-b7123b7175d3"
   },
   "outputs": [
    {
     "data": {
      "text/plain": [
       "DecisionTreeRegressor(random_state=0)"
      ]
     },
     "execution_count": 10,
     "metadata": {},
     "output_type": "execute_result"
    }
   ],
   "source": [
    "regressor = get_model()\n",
    "regressor.fit(X_train, y_train)"
   ]
  },
  {
   "cell_type": "code",
   "execution_count": 11,
   "metadata": {
    "colab": {
     "base_uri": "https://localhost:8080/",
     "height": 34
    },
    "executionInfo": {
     "elapsed": 824,
     "status": "ok",
     "timestamp": 1602843817151,
     "user": {
      "displayName": "Jussi H",
      "photoUrl": "https://lh3.googleusercontent.com/a-/AOh14GhvUUHHpBpoNcz3fQE4SRKODRl1eKr7FjrvdebRSQ=s64",
      "userId": "01605438575348390897"
     },
     "user_tz": -180
    },
    "id": "3ku1C0v4w_Zp",
    "outputId": "cfe5fbb5-a1c2-4fa2-edd2-883dbecb2752"
   },
   "outputs": [
    {
     "name": "stdout",
     "output_type": "stream",
     "text": [
      "0.7076108085107302\n"
     ]
    }
   ],
   "source": [
    "y_pred = regressor.predict(X_test)\n",
    "print(r2_score(y_test, y_pred))"
   ]
  },
  {
   "cell_type": "code",
   "execution_count": 12,
   "metadata": {
    "colab": {
     "base_uri": "https://localhost:8080/",
     "height": 34
    },
    "executionInfo": {
     "elapsed": 817,
     "status": "ok",
     "timestamp": 1602843817152,
     "user": {
      "displayName": "Jussi H",
      "photoUrl": "https://lh3.googleusercontent.com/a-/AOh14GhvUUHHpBpoNcz3fQE4SRKODRl1eKr7FjrvdebRSQ=s64",
      "userId": "01605438575348390897"
     },
     "user_tz": -180
    },
    "id": "09VGEv42xLTY",
    "outputId": "eb4be042-e361-4206-ea3c-3f80e6926ca7"
   },
   "outputs": [
    {
     "name": "stdout",
     "output_type": "stream",
     "text": [
      "RMSE: 45691.874215\n"
     ]
    }
   ],
   "source": [
    "rmse = np.sqrt(mean_squared_error(y_test, y_pred))\n",
    "print(\"RMSE: %f\" % (rmse))"
   ]
  },
  {
   "cell_type": "code",
   "execution_count": 13,
   "metadata": {
    "colab": {
     "base_uri": "https://localhost:8080/",
     "height": 34
    },
    "executionInfo": {
     "elapsed": 807,
     "status": "ok",
     "timestamp": 1602843817152,
     "user": {
      "displayName": "Jussi H",
      "photoUrl": "https://lh3.googleusercontent.com/a-/AOh14GhvUUHHpBpoNcz3fQE4SRKODRl1eKr7FjrvdebRSQ=s64",
      "userId": "01605438575348390897"
     },
     "user_tz": -180
    },
    "id": "f2fTSYqVxjS3",
    "outputId": "13cf337a-9c8b-4392-c2a0-a352f33fb637"
   },
   "outputs": [
    {
     "name": "stdout",
     "output_type": "stream",
     "text": [
      "File decision_tree_reg_01.csv created!\n"
     ]
    }
   ],
   "source": [
    "preds = regressor.predict(test_data)\n",
    "preds_to_file(test_all, preds, \"decision_tree_reg_01.csv\")"
   ]
  }
 ],
 "metadata": {
  "colab": {
   "authorship_tag": "ABX9TyOXhYv926WSRaxnPYXuyG3Z",
   "name": "04 Decision Tree Regression.ipynb",
   "provenance": [
    {
     "file_id": "1hmO1pIrgc6LGL1YlgMr8ecMMV3Pcgn4q",
     "timestamp": 1602843675257
    },
    {
     "file_id": "1CqqIMJGNoASzrXWx-_H4eSbkCB2FAjwT",
     "timestamp": 1602843401113
    }
   ]
  },
  "kernelspec": {
   "display_name": "Python 3",
   "language": "python",
   "name": "python3"
  },
  "language_info": {
   "codemirror_mode": {
    "name": "ipython",
    "version": 3
   },
   "file_extension": ".py",
   "mimetype": "text/x-python",
   "name": "python",
   "nbconvert_exporter": "python",
   "pygments_lexer": "ipython3",
   "version": "3.8.3"
  }
 },
 "nbformat": 4,
 "nbformat_minor": 4
}
