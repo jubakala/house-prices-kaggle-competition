{
 "cells": [
  {
   "cell_type": "markdown",
   "metadata": {
    "id": "ghegyzIMynRT"
   },
   "source": [
    "# Random Forest Regression"
   ]
  },
  {
   "cell_type": "markdown",
   "metadata": {
    "id": "VypiqP9cyrBZ"
   },
   "source": [
    "Random Forest Regression with the following configuration reached a root-mean-squared-error of 0.159."
   ]
  },
  {
   "cell_type": "code",
   "execution_count": 1,
   "metadata": {
    "executionInfo": {
     "elapsed": 1091,
     "status": "ok",
     "timestamp": 1602843597575,
     "user": {
      "displayName": "Jussi H",
      "photoUrl": "https://lh3.googleusercontent.com/a-/AOh14GhvUUHHpBpoNcz3fQE4SRKODRl1eKr7FjrvdebRSQ=s64",
      "userId": "01605438575348390897"
     },
     "user_tz": -180
    },
    "id": "HIARsvsCs_wr"
   },
   "outputs": [],
   "source": [
    "import pandas as pd\n",
    "import numpy as np"
   ]
  },
  {
   "cell_type": "code",
   "execution_count": 2,
   "metadata": {
    "executionInfo": {
     "elapsed": 1086,
     "status": "ok",
     "timestamp": 1602843597576,
     "user": {
      "displayName": "Jussi H",
      "photoUrl": "https://lh3.googleusercontent.com/a-/AOh14GhvUUHHpBpoNcz3fQE4SRKODRl1eKr7FjrvdebRSQ=s64",
      "userId": "01605438575348390897"
     },
     "user_tz": -180
    },
    "id": "VmvGgjaw6kW5"
   },
   "outputs": [],
   "source": [
    "from sklearn.ensemble import RandomForestRegressor"
   ]
  },
  {
   "cell_type": "code",
   "execution_count": 3,
   "metadata": {
    "executionInfo": {
     "elapsed": 1081,
     "status": "ok",
     "timestamp": 1602843597576,
     "user": {
      "displayName": "Jussi H",
      "photoUrl": "https://lh3.googleusercontent.com/a-/AOh14GhvUUHHpBpoNcz3fQE4SRKODRl1eKr7FjrvdebRSQ=s64",
      "userId": "01605438575348390897"
     },
     "user_tz": -180
    },
    "id": "zfD1Ezn5wokN"
   },
   "outputs": [],
   "source": [
    "from sklearn.model_selection import train_test_split\n",
    "from sklearn.metrics import r2_score\n",
    "from sklearn.compose import ColumnTransformer\n",
    "from sklearn.preprocessing import OneHotEncoder\n",
    "from sklearn.preprocessing import StandardScaler\n",
    "from sklearn.metrics import mean_squared_error"
   ]
  },
  {
   "cell_type": "code",
   "execution_count": 4,
   "metadata": {
    "executionInfo": {
     "elapsed": 1782,
     "status": "ok",
     "timestamp": 1602843598285,
     "user": {
      "displayName": "Jussi H",
      "photoUrl": "https://lh3.googleusercontent.com/a-/AOh14GhvUUHHpBpoNcz3fQE4SRKODRl1eKr7FjrvdebRSQ=s64",
      "userId": "01605438575348390897"
     },
     "user_tz": -180
    },
    "id": "e0Y71fl9p4XI"
   },
   "outputs": [],
   "source": [
    "train = pd.read_csv('dataset.csv')\n",
    "# train = train[train['SalePrice'] < 500000]\n",
    "\n",
    "testset = pd.read_csv('testset.csv')\n",
    "test_all = pd.read_csv('test.csv')"
   ]
  },
  {
   "cell_type": "code",
   "execution_count": 5,
   "metadata": {
    "executionInfo": {
     "elapsed": 1777,
     "status": "ok",
     "timestamp": 1602843598285,
     "user": {
      "displayName": "Jussi H",
      "photoUrl": "https://lh3.googleusercontent.com/a-/AOh14GhvUUHHpBpoNcz3fQE4SRKODRl1eKr7FjrvdebRSQ=s64",
      "userId": "01605438575348390897"
     },
     "user_tz": -180
    },
    "id": "mPHtn0vHv_pU"
   },
   "outputs": [],
   "source": [
    "train = train.drop(['Id'], axis=1)\n",
    "test = testset.drop(['Id'], axis=1)"
   ]
  },
  {
   "cell_type": "code",
   "execution_count": 6,
   "metadata": {
    "executionInfo": {
     "elapsed": 1774,
     "status": "ok",
     "timestamp": 1602843598286,
     "user": {
      "displayName": "Jussi H",
      "photoUrl": "https://lh3.googleusercontent.com/a-/AOh14GhvUUHHpBpoNcz3fQE4SRKODRl1eKr7FjrvdebRSQ=s64",
      "userId": "01605438575348390897"
     },
     "user_tz": -180
    },
    "id": "MldO0knUwDME"
   },
   "outputs": [],
   "source": [
    "X = train.iloc[:, :-1].values\n",
    "y = train.iloc[:, -1].values\n",
    "test_data = test.iloc[:,:].values"
   ]
  },
  {
   "cell_type": "code",
   "execution_count": 7,
   "metadata": {
    "executionInfo": {
     "elapsed": 1770,
     "status": "ok",
     "timestamp": 1602843598286,
     "user": {
      "displayName": "Jussi H",
      "photoUrl": "https://lh3.googleusercontent.com/a-/AOh14GhvUUHHpBpoNcz3fQE4SRKODRl1eKr7FjrvdebRSQ=s64",
      "userId": "01605438575348390897"
     },
     "user_tz": -180
    },
    "id": "UGGJYbPnwLSi"
   },
   "outputs": [],
   "source": [
    "def transform_columns(X, test_data, columns):\n",
    "    ct = ColumnTransformer(transformers=[('encoder', OneHotEncoder(), columns)], remainder='passthrough')\n",
    "    # X = np.array(ct.fit_transform(X))\n",
    "    X = ct.fit_transform(X)\n",
    "    # test_data = np.array(ct.transform(test_data))\n",
    "    test_data = ct.transform(test_data)\n",
    "\n",
    "    return X, test_data\n",
    "\n",
    "def standardize(X_train, X_test, test_data):\n",
    "    sc = StandardScaler(with_mean=False)\n",
    "    X_train = sc.fit_transform(X_train)\n",
    "    X_test = sc.transform(X_test)\n",
    "    test_data = sc.transform(test_data)\n",
    "\n",
    "    return X_train, X_test, test_data\n",
    "\n",
    "def get_model():\n",
    "    return RandomForestRegressor(n_estimators=100, random_state=0)\n",
    "    \n",
    "def preds_to_file(test_all, preds, filename):\n",
    "    output = pd.DataFrame({'Id': test_all.Id, 'SalePrice': preds})\n",
    "    output.to_csv(filename, index=False)\n",
    "    print(f\"File {filename} created!\")"
   ]
  },
  {
   "cell_type": "code",
   "execution_count": 8,
   "metadata": {
    "executionInfo": {
     "elapsed": 1767,
     "status": "ok",
     "timestamp": 1602843598287,
     "user": {
      "displayName": "Jussi H",
      "photoUrl": "https://lh3.googleusercontent.com/a-/AOh14GhvUUHHpBpoNcz3fQE4SRKODRl1eKr7FjrvdebRSQ=s64",
      "userId": "01605438575348390897"
     },
     "user_tz": -180
    },
    "id": "OOeXuO4LwOsB"
   },
   "outputs": [],
   "source": [
    " categorical_cols = [1, 4, 5, 6, 7, 8, 9, 10, 11, 12, 13, 14, 19, 20, 21, 22, 23, 24, 25, 26, 27, 28, 29, 30, 32, 36, 37, 38, 39, 50, 52, 54, 56, 59, 60, 61, 71, 72]\n",
    " X, test_data = transform_columns(X, test_data, categorical_cols)\n",
    " X = X.toarray()\n",
    " test_data = test_data.toarray()"
   ]
  },
  {
   "cell_type": "code",
   "execution_count": 9,
   "metadata": {
    "executionInfo": {
     "elapsed": 1762,
     "status": "ok",
     "timestamp": 1602843598288,
     "user": {
      "displayName": "Jussi H",
      "photoUrl": "https://lh3.googleusercontent.com/a-/AOh14GhvUUHHpBpoNcz3fQE4SRKODRl1eKr7FjrvdebRSQ=s64",
      "userId": "01605438575348390897"
     },
     "user_tz": -180
    },
    "id": "y9D1Cn7Awwq_"
   },
   "outputs": [],
   "source": [
    "X_train, X_test, y_train, y_test = train_test_split(X, y, test_size=0.3, random_state=1)\n",
    "X_train, X_test, test_data = standardize(X_train, X_test, test_data)"
   ]
  },
  {
   "cell_type": "code",
   "execution_count": 10,
   "metadata": {
    "colab": {
     "base_uri": "https://localhost:8080/",
     "height": 136
    },
    "executionInfo": {
     "elapsed": 4212,
     "status": "ok",
     "timestamp": 1602843600742,
     "user": {
      "displayName": "Jussi H",
      "photoUrl": "https://lh3.googleusercontent.com/a-/AOh14GhvUUHHpBpoNcz3fQE4SRKODRl1eKr7FjrvdebRSQ=s64",
      "userId": "01605438575348390897"
     },
     "user_tz": -180
    },
    "id": "1P6Tu4izw7uL",
    "outputId": "de482c26-dd59-4c9d-c2f1-43ded69f422a"
   },
   "outputs": [
    {
     "data": {
      "text/plain": [
       "RandomForestRegressor(random_state=0)"
      ]
     },
     "execution_count": 10,
     "metadata": {},
     "output_type": "execute_result"
    }
   ],
   "source": [
    "regressor = get_model()\n",
    "regressor.fit(X_train, y_train)"
   ]
  },
  {
   "cell_type": "code",
   "execution_count": 11,
   "metadata": {
    "colab": {
     "base_uri": "https://localhost:8080/",
     "height": 34
    },
    "executionInfo": {
     "elapsed": 4208,
     "status": "ok",
     "timestamp": 1602843600742,
     "user": {
      "displayName": "Jussi H",
      "photoUrl": "https://lh3.googleusercontent.com/a-/AOh14GhvUUHHpBpoNcz3fQE4SRKODRl1eKr7FjrvdebRSQ=s64",
      "userId": "01605438575348390897"
     },
     "user_tz": -180
    },
    "id": "3ku1C0v4w_Zp",
    "outputId": "44e1c4e6-b1c8-4e9c-b7c1-d889c0f3c8a7"
   },
   "outputs": [
    {
     "name": "stdout",
     "output_type": "stream",
     "text": [
      "0.9002494209393206\n"
     ]
    }
   ],
   "source": [
    "y_pred = regressor.predict(X_test)\n",
    "print(r2_score(y_test, y_pred))"
   ]
  },
  {
   "cell_type": "code",
   "execution_count": 12,
   "metadata": {
    "colab": {
     "base_uri": "https://localhost:8080/",
     "height": 34
    },
    "executionInfo": {
     "elapsed": 4137,
     "status": "ok",
     "timestamp": 1602843600743,
     "user": {
      "displayName": "Jussi H",
      "photoUrl": "https://lh3.googleusercontent.com/a-/AOh14GhvUUHHpBpoNcz3fQE4SRKODRl1eKr7FjrvdebRSQ=s64",
      "userId": "01605438575348390897"
     },
     "user_tz": -180
    },
    "id": "09VGEv42xLTY",
    "outputId": "17fa4067-4b71-4ad4-df74-734bac93bd56"
   },
   "outputs": [
    {
     "name": "stdout",
     "output_type": "stream",
     "text": [
      "RMSE: 26687.999948\n"
     ]
    }
   ],
   "source": [
    "rmse = np.sqrt(mean_squared_error(y_test, y_pred))\n",
    "print(\"RMSE: %f\" % (rmse))"
   ]
  },
  {
   "cell_type": "code",
   "execution_count": 13,
   "metadata": {
    "colab": {
     "base_uri": "https://localhost:8080/",
     "height": 34
    },
    "executionInfo": {
     "elapsed": 4095,
     "status": "ok",
     "timestamp": 1602843600743,
     "user": {
      "displayName": "Jussi H",
      "photoUrl": "https://lh3.googleusercontent.com/a-/AOh14GhvUUHHpBpoNcz3fQE4SRKODRl1eKr7FjrvdebRSQ=s64",
      "userId": "01605438575348390897"
     },
     "user_tz": -180
    },
    "id": "f2fTSYqVxjS3",
    "outputId": "2f38f10a-79be-4f3b-99db-49fabdb35519"
   },
   "outputs": [
    {
     "name": "stdout",
     "output_type": "stream",
     "text": [
      "File rfc_reg_01.csv created!\n"
     ]
    }
   ],
   "source": [
    "preds = regressor.predict(test_data)\n",
    "preds_to_file(test_all, preds, \"rfc_reg_01.csv\")"
   ]
  }
 ],
 "metadata": {
  "colab": {
   "authorship_tag": "ABX9TyOhw7umunSDY0YdypzTqpqB",
   "name": "03 Random Forest Regression.ipynb",
   "provenance": [
    {
     "file_id": "1CqqIMJGNoASzrXWx-_H4eSbkCB2FAjwT",
     "timestamp": 1602843401113
    }
   ]
  },
  "kernelspec": {
   "display_name": "Python 3",
   "language": "python",
   "name": "python3"
  },
  "language_info": {
   "codemirror_mode": {
    "name": "ipython",
    "version": 3
   },
   "file_extension": ".py",
   "mimetype": "text/x-python",
   "name": "python",
   "nbconvert_exporter": "python",
   "pygments_lexer": "ipython3",
   "version": "3.8.3"
  }
 },
 "nbformat": 4,
 "nbformat_minor": 4
}
